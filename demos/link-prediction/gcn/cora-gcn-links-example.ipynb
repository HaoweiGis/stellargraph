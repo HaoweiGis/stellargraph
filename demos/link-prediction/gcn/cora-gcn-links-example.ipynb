{
 "cells": [
  {
   "cell_type": "markdown",
   "metadata": {},
   "source": [
    "# Link prediction example: GCN on the Cora citation dataset"
   ]
  },
  {
   "cell_type": "markdown",
   "metadata": {},
   "source": [
    "In this example, we use our implementation of the [GCN](https://arxiv.org/abs/1609.02907) algorithm to build a model that predicts citation links in the Cora dataset (see below). The problem is treated as a supervised link prediction problem on a homogeneous citation network with nodes representing papers (with attributes such as binary keyword indicators and categorical subject) and links corresponding to paper-paper citations. \n",
    "\n",
    "To address this problem, we build a model with the following architecture. First we build a two-layer GCN model that takes labeled node pairs (`citing-paper` -> `cited-paper`)  corresponding to possible citation links, and outputs a pair of node embeddings for the `citing-paper` and `cited-paper` nodes of the pair. These embeddings are then fed into a link classification layer, which first applies a binary operator to those node embeddings (e.g., concatenating them) to construct the embedding of the potential link. Thus obtained link embeddings are passed through the dense link classification layer to obtain link predictions - probability for these candidate links to actually exist in the network. The entire model is trained end-to-end by minimizing the loss function of choice (e.g., binary cross-entropy between predicted link probabilities and true link labels, with true/false citation links having labels 1/0) using stochastic gradient descent (SGD) updates of the model parameters, with minibatches of 'training' links fed into the model."
   ]
  },
  {
   "cell_type": "code",
   "execution_count": 1,
   "metadata": {},
   "outputs": [],
   "source": [
    "import networkx as nx\n",
    "import pandas as pd\n",
    "import os\n",
    "\n",
    "import stellargraph as sg\n",
    "from stellargraph.data import EdgeSplitter\n",
    "from stellargraph.mapper import GraphSAGELinkGenerator, FullBatchLinkGenerator\n",
    "from stellargraph.layer import (\n",
    "    GCN,\n",
    "    GAT,\n",
    "    APPNP,\n",
    "    link_classification,\n",
    "    LinkEmbedding,\n",
    "    LeakyClippedLinear,\n",
    ")\n",
    "\n",
    "\n",
    "from tensorflow import keras\n",
    "from sklearn import preprocessing, feature_extraction, model_selection\n",
    "\n",
    "from stellargraph import globalvar"
   ]
  },
  {
   "cell_type": "markdown",
   "metadata": {},
   "source": [
    "### Loading the CORA network data"
   ]
  },
  {
   "cell_type": "markdown",
   "metadata": {},
   "source": [
    "**Downloading the CORA dataset:**\n",
    "    \n",
    "The dataset used in this demo can be downloaded from https://linqs-data.soe.ucsc.edu/public/lbc/cora.tgz\n",
    "\n",
    "The following is the description of the dataset:\n",
    "> The Cora dataset consists of 2708 scientific publications classified into one of seven classes.\n",
    "> The citation network consists of 5429 links. Each publication in the dataset is described by a\n",
    "> 0/1-valued word vector indicating the absence/presence of the corresponding word from the dictionary.\n",
    "> The dictionary consists of 1433 unique words. The README file in the dataset provides more details.\n",
    "\n",
    "Download and unzip the cora.tgz file to a location on your computer and set the `data_dir` variable to\n",
    "point to the location of the dataset (the directory containing \"cora.cites\" and \"cora.content\")."
   ]
  },
  {
   "cell_type": "code",
   "execution_count": 2,
   "metadata": {},
   "outputs": [],
   "source": [
    "data_dir = os.path.expanduser(\"~/data/cora\")"
   ]
  },
  {
   "cell_type": "markdown",
   "metadata": {},
   "source": [
    "Load the graph from edgelist (in `cited-paper`,`citing-paper` order)"
   ]
  },
  {
   "cell_type": "code",
   "execution_count": 3,
   "metadata": {},
   "outputs": [],
   "source": [
    "edgelist = pd.read_csv(\n",
    "    os.path.join(data_dir, \"cora.cites\"),\n",
    "    sep=\"\\t\",\n",
    "    header=None,\n",
    "    names=[\"target\", \"source\"],\n",
    ")\n",
    "edgelist[\"label\"] = \"cites\"  # set the edge type"
   ]
  },
  {
   "cell_type": "code",
   "execution_count": 4,
   "metadata": {},
   "outputs": [],
   "source": [
    "G = nx.from_pandas_edgelist(edgelist, edge_attr=\"label\")"
   ]
  },
  {
   "cell_type": "markdown",
   "metadata": {},
   "source": [
    "Load the features and subject for the nodes"
   ]
  },
  {
   "cell_type": "code",
   "execution_count": 5,
   "metadata": {},
   "outputs": [],
   "source": [
    "feature_names = [\"w_{}\".format(ii) for ii in range(1433)]\n",
    "column_names = feature_names + [\"subject\"]\n",
    "node_data = pd.read_csv(\n",
    "    os.path.join(data_dir, \"cora.content\"), sep=\"\\t\", header=None, names=column_names\n",
    ")"
   ]
  },
  {
   "cell_type": "markdown",
   "metadata": {},
   "source": [
    "Define a set of node features that will be used by the model as the difference between the set of all node features and a list of user-defined node attributes to ignore:"
   ]
  },
  {
   "cell_type": "code",
   "execution_count": 6,
   "metadata": {},
   "outputs": [],
   "source": [
    "ignore_attr = []\n",
    "feature_names = sorted(set(column_names) - set(ignore_attr))"
   ]
  },
  {
   "cell_type": "markdown",
   "metadata": {},
   "source": [
    "We need to convert node features that will be used by the model to numeric values that are required for GraphSAGE input. Note that all node features in the Cora dataset, except the categorical \"subject\" feature, are already numeric, and don't require the conversion."
   ]
  },
  {
   "cell_type": "code",
   "execution_count": 7,
   "metadata": {},
   "outputs": [],
   "source": [
    "if \"subject\" in feature_names:\n",
    "    # Convert node features to numeric vectors\n",
    "    feature_encoding = feature_extraction.DictVectorizer(sparse=False)\n",
    "    node_features = feature_encoding.fit_transform(\n",
    "        node_data[feature_names].to_dict(\"records\")\n",
    "    )\n",
    "else:  # node features are already numeric, no further conversion is needed\n",
    "    node_features = node_data[feature_names].values"
   ]
  },
  {
   "cell_type": "markdown",
   "metadata": {},
   "source": [
    "Add node data to G:"
   ]
  },
  {
   "cell_type": "code",
   "execution_count": 8,
   "metadata": {},
   "outputs": [],
   "source": [
    "for nid, f in zip(node_data.index, node_features):\n",
    "    G.node[nid][globalvar.TYPE_ATTR_NAME] = \"paper\"  # specify node type\n",
    "    G.node[nid][\"feature\"] = f"
   ]
  },
  {
   "cell_type": "markdown",
   "metadata": {},
   "source": [
    "We aim to train a link prediction model, hence we need to prepare the train and test sets of links and the corresponding graphs with those links removed.\n",
    "\n",
    "We are going to split our input graph into a train and test graphs using the EdgeSplitter class in `stellargraph.data`. We will use the train graph for training the model (a binary classifier that, given two nodes, predicts whether a link between these two nodes should exist or not) and the test graph for evaluating the model's performance on hold out data.\n",
    "Each of these graphs will have the same number of nodes as the input graph, but the number of links will differ (be reduced) as some of the links will be removed during each split and used as the positive samples for training/testing the link prediction classifier."
   ]
  },
  {
   "cell_type": "markdown",
   "metadata": {},
   "source": [
    "From the original graph G, extract a randomly sampled subset of test edges (true and false citation links) and the reduced graph G_test with the positive test edges removed:"
   ]
  },
  {
   "cell_type": "code",
   "execution_count": 9,
   "metadata": {},
   "outputs": [
    {
     "name": "stdout",
     "output_type": "stream",
     "text": [
      "** Sampled 527 positive and 527 negative edges. **\n"
     ]
    }
   ],
   "source": [
    "# Define an edge splitter on the original graph G:\n",
    "edge_splitter_test = EdgeSplitter(G)\n",
    "\n",
    "# Randomly sample a fraction p=0.1 of all positive links, and same number of negative links, from G, and obtain the\n",
    "# reduced graph G_test with the sampled links removed:\n",
    "G_test, edge_ids_test, edge_labels_test = edge_splitter_test.train_test_split(\n",
    "    p=0.1, method=\"global\", keep_connected=True\n",
    ")"
   ]
  },
  {
   "cell_type": "markdown",
   "metadata": {},
   "source": [
    "The reduced graph G_test, together with the test ground truth set of links (edge_ids_test, edge_labels_test), will be used for testing the model.\n",
    "\n",
    "Now repeat this procedure to obtain the training data for the model. From the reduced graph G_test, extract a randomly sampled subset of train edges (true and false citation links) and the reduced graph G_train with the positive train edges removed:"
   ]
  },
  {
   "cell_type": "code",
   "execution_count": 10,
   "metadata": {},
   "outputs": [
    {
     "name": "stdout",
     "output_type": "stream",
     "text": [
      "** Sampled 475 positive and 475 negative edges. **\n"
     ]
    }
   ],
   "source": [
    "# Define an edge splitter on the reduced graph G_test:\n",
    "edge_splitter_train = EdgeSplitter(G_test)\n",
    "\n",
    "# Randomly sample a fraction p=0.1 of all positive links, and same number of negative links, from G_test, and obtain the\n",
    "# reduced graph G_train with the sampled links removed:\n",
    "G_train, edge_ids_train, edge_labels_train = edge_splitter_train.train_test_split(\n",
    "    p=0.1, method=\"global\", keep_connected=True\n",
    ")"
   ]
  },
  {
   "cell_type": "markdown",
   "metadata": {},
   "source": [
    "G_train, together with the train ground truth set of links (edge_ids_train, edge_labels_train), will be used for training the model."
   ]
  },
  {
   "cell_type": "markdown",
   "metadata": {},
   "source": [
    "Convert G_train and G_test to StellarGraph objects (undirected, as required by GraphSAGE) for ML:"
   ]
  },
  {
   "cell_type": "code",
   "execution_count": 11,
   "metadata": {},
   "outputs": [],
   "source": [
    "G_train = sg.StellarGraph(G_train, node_features=\"feature\")\n",
    "G_test = sg.StellarGraph(G_test, node_features=\"feature\")"
   ]
  },
  {
   "cell_type": "markdown",
   "metadata": {},
   "source": [
    "Summary of G_train and G_test - note that they have the same set of nodes, only differing in their edge sets:"
   ]
  },
  {
   "cell_type": "markdown",
   "metadata": {},
   "source": [
    "Creating the GCN link model"
   ]
  },
  {
   "cell_type": "markdown",
   "metadata": {},
   "source": [
    "Next, we create the link generators for the train and test link examples to the model. The link generators take the pairs of nodes (`citing-paper`, `cited-paper`) that are given in the `.flow` method to the Keras model, together with the corresponding binary labels indicating whether those pairs represent true or false links.\n",
    "\n",
    "The number of epochs for training the model:"
   ]
  },
  {
   "cell_type": "code",
   "execution_count": 12,
   "metadata": {},
   "outputs": [],
   "source": [
    "epochs = 50"
   ]
  },
  {
   "cell_type": "markdown",
   "metadata": {},
   "source": [
    "For training we create a generator on the `G_train` graph, and make an iterator over the training links using the generator's `flow()` method:"
   ]
  },
  {
   "cell_type": "code",
   "execution_count": 13,
   "metadata": {},
   "outputs": [
    {
     "name": "stdout",
     "output_type": "stream",
     "text": [
      "Using GCN (local pooling) filters...\n"
     ]
    }
   ],
   "source": [
    "train_gen = FullBatchLinkGenerator(G_train, method=\"gcn\")\n",
    "train_flow = train_gen.flow(edge_ids_train, edge_labels_train)"
   ]
  },
  {
   "cell_type": "code",
   "execution_count": 14,
   "metadata": {},
   "outputs": [
    {
     "name": "stdout",
     "output_type": "stream",
     "text": [
      "Using GCN (local pooling) filters...\n"
     ]
    }
   ],
   "source": [
    "test_gen = FullBatchLinkGenerator(G_test, method=\"gcn\")\n",
    "test_flow = train_gen.flow(edge_ids_test, edge_labels_test)"
   ]
  },
  {
   "cell_type": "markdown",
   "metadata": {},
   "source": [
    "Now we can specify our machine learning model, we need a few more parameters for this:\n",
    "\n",
    " * the `layer_sizes` is a list of hidden feature sizes of each layer in the model. In this example we use two GCN layers with 16-dimensional hidden node features at each layer.\n",
    " * `activations` is a list of activations applied to each layer's output\n",
    " * `dropout=0.5` specifies a 50% dropout at each layer. "
   ]
  },
  {
   "cell_type": "markdown",
   "metadata": {},
   "source": [
    "We create a GCN model as follows:"
   ]
  },
  {
   "cell_type": "code",
   "execution_count": 15,
   "metadata": {},
   "outputs": [
    {
     "name": "stdout",
     "output_type": "stream",
     "text": []
    }
   ],
   "source": [
    "gcn = GCN(\n",
    "    layer_sizes=[16, 16], activations=[\"relu\", \"relu\"], generator=train_gen, dropout=0.3\n",
    ")"
   ]
  },
  {
   "cell_type": "markdown",
   "metadata": {},
   "source": [
    "To create a Keras model we now expose the input and output tensors of the GCN model for link prediction, via the `GCN.build` method:"
   ]
  },
  {
   "cell_type": "code",
   "execution_count": 16,
   "metadata": {},
   "outputs": [],
   "source": [
    "x_inp, x_out = gcn.build()"
   ]
  },
  {
   "cell_type": "markdown",
   "metadata": {},
   "source": [
    "Final link classification layer that takes a pair of node embeddings produced by graphsage, applies a binary operator to them to produce the corresponding link embedding ('ip' for inner product; other options for the binary operator can be seen by running a cell with `?LinkEmbedding` in it), and passes it through a dense layer:"
   ]
  },
  {
   "cell_type": "code",
   "execution_count": 17,
   "metadata": {},
   "outputs": [],
   "source": [
    "prediction = LinkEmbedding(output_dim=1, activation=\"relu\", method=\"ip\")(x_out)"
   ]
  },
  {
   "cell_type": "markdown",
   "metadata": {},
   "source": [
    "The predictions need to be reshaped from `(X, 1)` to `(X,)` to match the shape of the targets we have supplied above."
   ]
  },
  {
   "cell_type": "code",
   "execution_count": 18,
   "metadata": {},
   "outputs": [],
   "source": [
    "prediction = keras.layers.Reshape((-1,))(prediction)"
   ]
  },
  {
   "cell_type": "markdown",
   "metadata": {},
   "source": [
    "Stack the GraphSAGE and prediction layers into a Keras model, and specify the loss"
   ]
  },
  {
   "cell_type": "code",
   "execution_count": 19,
   "metadata": {},
   "outputs": [],
   "source": [
    "model = keras.Model(inputs=x_inp, outputs=prediction)\n",
    "\n",
    "model.compile(\n",
    "    optimizer=keras.optimizers.Adam(lr=0.01),\n",
    "    loss=keras.losses.binary_crossentropy,\n",
    "    metrics=[\"acc\"],\n",
    ")"
   ]
  },
  {
   "cell_type": "markdown",
   "metadata": {},
   "source": [
    "Evaluate the initial (untrained) model on the train and test set:"
   ]
  },
  {
   "cell_type": "code",
   "execution_count": 20,
   "metadata": {},
   "outputs": [
    {
     "name": "stdout",
     "output_type": "stream",
     "text": [
      "\n",
      "Train Set Metrics of the initial (untrained) model:\n",
      "\tloss: 2.2018\n",
      "\tacc: 0.5000\n",
      "\n",
      "Test Set Metrics of the initial (untrained) model:\n",
      "\tloss: 2.2401\n",
      "\tacc: 0.5000\n"
     ]
    }
   ],
   "source": [
    "init_train_metrics = model.evaluate_generator(train_flow)\n",
    "init_test_metrics = model.evaluate_generator(test_flow)\n",
    "\n",
    "print(\"\\nTrain Set Metrics of the initial (untrained) model:\")\n",
    "for name, val in zip(model.metrics_names, init_train_metrics):\n",
    "    print(\"\\t{}: {:0.4f}\".format(name, val))\n",
    "\n",
    "print(\"\\nTest Set Metrics of the initial (untrained) model:\")\n",
    "for name, val in zip(model.metrics_names, init_test_metrics):\n",
    "    print(\"\\t{}: {:0.4f}\".format(name, val))"
   ]
  },
  {
   "cell_type": "markdown",
   "metadata": {},
   "source": [
    "Train the model:"
   ]
  },
  {
   "cell_type": "code",
   "execution_count": 21,
   "metadata": {},
   "outputs": [
    {
     "name": "stdout",
     "output_type": "stream",
     "text": [
      "Epoch 1/50\n",
      "1/1 - 1s - loss: 2.1332 - acc: 0.5000 - val_loss: 0.7042 - val_acc: 0.5882\n",
      "Epoch 2/50\n",
      "1/1 - 0s - loss: 0.6782 - acc: 0.6116 - val_loss: 5.1530 - val_acc: 0.5000\n",
      "Epoch 3/50\n",
      "1/1 - 0s - loss: 5.2381 - acc: 0.5095 - val_loss: 1.5202 - val_acc: 0.5522\n",
      "Epoch 4/50\n",
      "1/1 - 0s - loss: 1.8632 - acc: 0.5558 - val_loss: 0.6863 - val_acc: 0.6243\n",
      "Epoch 5/50\n",
      "1/1 - 0s - loss: 0.6524 - acc: 0.6484 - val_loss: 0.7906 - val_acc: 0.5427\n",
      "Epoch 6/50\n",
      "1/1 - 0s - loss: 0.7722 - acc: 0.5611 - val_loss: 0.8703 - val_acc: 0.5247\n",
      "Epoch 7/50\n",
      "1/1 - 0s - loss: 0.8274 - acc: 0.5316 - val_loss: 0.8383 - val_acc: 0.5304\n",
      "Epoch 8/50\n",
      "1/1 - 0s - loss: 0.8369 - acc: 0.5274 - val_loss: 0.7520 - val_acc: 0.5607\n",
      "Epoch 9/50\n",
      "1/1 - 0s - loss: 0.7298 - acc: 0.5768 - val_loss: 0.6551 - val_acc: 0.6347\n",
      "Epoch 10/50\n",
      "1/1 - 0s - loss: 0.6638 - acc: 0.6474 - val_loss: 0.6995 - val_acc: 0.6632\n",
      "Epoch 11/50\n",
      "1/1 - 0s - loss: 0.7633 - acc: 0.6484 - val_loss: 0.7120 - val_acc: 0.6641\n",
      "Epoch 12/50\n",
      "1/1 - 0s - loss: 0.8861 - acc: 0.6716 - val_loss: 0.6553 - val_acc: 0.6841\n",
      "Epoch 13/50\n",
      "1/1 - 0s - loss: 0.6969 - acc: 0.6642 - val_loss: 0.6078 - val_acc: 0.6983\n",
      "Epoch 14/50\n",
      "1/1 - 0s - loss: 0.5601 - acc: 0.7053 - val_loss: 0.6215 - val_acc: 0.6613\n",
      "Epoch 15/50\n",
      "1/1 - 0s - loss: 0.5555 - acc: 0.6979 - val_loss: 0.6342 - val_acc: 0.6546\n",
      "Epoch 16/50\n",
      "1/1 - 0s - loss: 0.5777 - acc: 0.6979 - val_loss: 0.6328 - val_acc: 0.6594\n",
      "Epoch 17/50\n",
      "1/1 - 0s - loss: 0.5848 - acc: 0.6958 - val_loss: 0.6297 - val_acc: 0.6717\n",
      "Epoch 18/50\n",
      "1/1 - 0s - loss: 0.5425 - acc: 0.7147 - val_loss: 0.6483 - val_acc: 0.6841\n",
      "Epoch 19/50\n",
      "1/1 - 0s - loss: 0.5090 - acc: 0.7442 - val_loss: 0.6652 - val_acc: 0.6945\n",
      "Epoch 20/50\n",
      "1/1 - 0s - loss: 0.5826 - acc: 0.7547 - val_loss: 0.7037 - val_acc: 0.6964\n",
      "Epoch 21/50\n",
      "1/1 - 0s - loss: 0.6107 - acc: 0.7674 - val_loss: 0.7091 - val_acc: 0.6983\n",
      "Epoch 22/50\n",
      "1/1 - 0s - loss: 0.5675 - acc: 0.7621 - val_loss: 0.7058 - val_acc: 0.7011\n",
      "Epoch 23/50\n",
      "1/1 - 0s - loss: 0.5514 - acc: 0.7589 - val_loss: 0.6700 - val_acc: 0.7078\n",
      "Epoch 24/50\n",
      "1/1 - 0s - loss: 0.5092 - acc: 0.7768 - val_loss: 0.6521 - val_acc: 0.7125\n",
      "Epoch 25/50\n",
      "1/1 - 0s - loss: 0.4867 - acc: 0.7768 - val_loss: 0.6390 - val_acc: 0.7182\n",
      "Epoch 26/50\n",
      "1/1 - 0s - loss: 0.4549 - acc: 0.8053 - val_loss: 0.6321 - val_acc: 0.7192\n",
      "Epoch 27/50\n",
      "1/1 - 0s - loss: 0.4286 - acc: 0.8011 - val_loss: 0.6358 - val_acc: 0.7296\n",
      "Epoch 28/50\n",
      "1/1 - 0s - loss: 0.4739 - acc: 0.8095 - val_loss: 0.6403 - val_acc: 0.7324\n",
      "Epoch 29/50\n",
      "1/1 - 0s - loss: 0.4412 - acc: 0.7800 - val_loss: 0.6607 - val_acc: 0.7476\n",
      "Epoch 30/50\n",
      "1/1 - 0s - loss: 0.3946 - acc: 0.8316 - val_loss: 0.6768 - val_acc: 0.7486\n",
      "Epoch 31/50\n",
      "1/1 - 0s - loss: 0.3868 - acc: 0.8389 - val_loss: 0.6852 - val_acc: 0.7552\n",
      "Epoch 32/50\n",
      "1/1 - 0s - loss: 0.3863 - acc: 0.8211 - val_loss: 0.6840 - val_acc: 0.7552\n",
      "Epoch 33/50\n",
      "1/1 - 0s - loss: 0.4089 - acc: 0.8463 - val_loss: 0.6822 - val_acc: 0.7524\n",
      "Epoch 34/50\n",
      "1/1 - 0s - loss: 0.3959 - acc: 0.8400 - val_loss: 0.6569 - val_acc: 0.7505\n",
      "Epoch 35/50\n",
      "1/1 - 0s - loss: 0.3630 - acc: 0.8432 - val_loss: 0.6461 - val_acc: 0.7495\n",
      "Epoch 36/50\n",
      "1/1 - 0s - loss: 0.3763 - acc: 0.8526 - val_loss: 0.6555 - val_acc: 0.7505\n",
      "Epoch 37/50\n",
      "1/1 - 0s - loss: 0.3482 - acc: 0.8389 - val_loss: 0.6549 - val_acc: 0.7486\n",
      "Epoch 38/50\n",
      "1/1 - 0s - loss: 0.3749 - acc: 0.8453 - val_loss: 0.6638 - val_acc: 0.7524\n",
      "Epoch 39/50\n",
      "1/1 - 0s - loss: 0.3778 - acc: 0.8474 - val_loss: 0.6549 - val_acc: 0.7495\n",
      "Epoch 40/50\n",
      "1/1 - 0s - loss: 0.3394 - acc: 0.8611 - val_loss: 0.6602 - val_acc: 0.7600\n",
      "Epoch 41/50\n",
      "1/1 - 0s - loss: 0.3111 - acc: 0.8789 - val_loss: 0.6794 - val_acc: 0.7666\n",
      "Epoch 42/50\n",
      "1/1 - 0s - loss: 0.3132 - acc: 0.8653 - val_loss: 0.6930 - val_acc: 0.7751\n",
      "Epoch 43/50\n",
      "1/1 - 0s - loss: 0.3429 - acc: 0.8674 - val_loss: 0.7411 - val_acc: 0.7789\n",
      "Epoch 44/50\n",
      "1/1 - 0s - loss: 0.3039 - acc: 0.8842 - val_loss: 0.7628 - val_acc: 0.7789\n",
      "Epoch 45/50\n",
      "1/1 - 0s - loss: 0.3220 - acc: 0.8789 - val_loss: 0.7653 - val_acc: 0.7761\n",
      "Epoch 46/50\n",
      "1/1 - 0s - loss: 0.3303 - acc: 0.8863 - val_loss: 0.7632 - val_acc: 0.7789\n",
      "Epoch 47/50\n",
      "1/1 - 0s - loss: 0.3008 - acc: 0.8968 - val_loss: 0.7699 - val_acc: 0.7761\n",
      "Epoch 48/50\n",
      "1/1 - 0s - loss: 0.2681 - acc: 0.8905 - val_loss: 0.7707 - val_acc: 0.7751\n",
      "Epoch 49/50\n",
      "1/1 - 0s - loss: 0.2787 - acc: 0.9000 - val_loss: 0.7664 - val_acc: 0.7732\n",
      "Epoch 50/50\n",
      "1/1 - 0s - loss: 0.3072 - acc: 0.8926 - val_loss: 0.7511 - val_acc: 0.7704\n"
     ]
    }
   ],
   "source": [
    "history = model.fit_generator(\n",
    "    train_flow, epochs=epochs, validation_data=test_flow, verbose=2, shuffle=False\n",
    ")"
   ]
  },
  {
   "cell_type": "markdown",
   "metadata": {},
   "source": [
    "Plot the training history:"
   ]
  },
  {
   "cell_type": "code",
   "execution_count": 22,
   "metadata": {},
   "outputs": [],
   "source": [
    "import matplotlib.pyplot as plt\n",
    "%matplotlib inline\n",
    "\n",
    "def plot_history(history):\n",
    "    metrics = sorted(history.history.keys())\n",
    "    metrics = metrics[:len(metrics)//2]\n",
    "    \n",
    "    f,axs = plt.subplots(1, len(metrics), figsize=(12,4))\n",
    "\n",
    "    for m,ax in zip(metrics,axs):\n",
    "        # summarize history for metric m\n",
    "        ax.plot(history.history[m])\n",
    "        ax.plot(history.history['val_' + m])\n",
    "        ax.set_title(m)\n",
    "        ax.set_ylabel(m)\n",
    "        ax.set_xlabel('epoch')\n",
    "        ax.legend(['train', 'test'], loc='best')"
   ]
  },
  {
   "cell_type": "code",
   "execution_count": 23,
   "metadata": {},
   "outputs": [
    {
     "data": {
      "image/png": "[encoded data removed]",
      "text/plain": [
       "<Figure size 864x288 with 2 Axes>"
      ]
     },
     "metadata": {
      "needs_background": "light"
     },
     "output_type": "display_data"
    }
   ],
   "source": [
    "plot_history(history)"
   ]
  },
  {
   "cell_type": "markdown",
   "metadata": {},
   "source": [
    "Evaluate the trained model on test citation links:"
   ]
  },
  {
   "cell_type": "code",
   "execution_count": 24,
   "metadata": {},
   "outputs": [
    {
     "name": "stdout",
     "output_type": "stream",
     "text": [
      "\n",
      "Train Set Metrics of the trained model:\n",
      "\tloss: 0.1973\n",
      "\tacc: 0.9305\n",
      "\n",
      "Test Set Metrics of the trained model:\n",
      "\tloss: 0.7511\n",
      "\tacc: 0.7704\n"
     ]
    }
   ],
   "source": [
    "train_metrics = model.evaluate_generator(train_flow)\n",
    "test_metrics = model.evaluate_generator(test_flow)\n",
    "\n",
    "print(\"\\nTrain Set Metrics of the trained model:\")\n",
    "for name, val in zip(model.metrics_names, train_metrics):\n",
    "    print(\"\\t{}: {:0.4f}\".format(name, val))\n",
    "\n",
    "print(\"\\nTest Set Metrics of the trained model:\")\n",
    "for name, val in zip(model.metrics_names, test_metrics):\n",
    "    print(\"\\t{}: {:0.4f}\".format(name, val))"
   ]
  }
 ],
 "metadata": {
  "file_extension": ".py",
  "kernelspec": {
   "display_name": "Python 3",
   "language": "python",
   "name": "python3"
  },
  "language_info": {
   "codemirror_mode": {
    "name": "ipython",
    "version": 3
   },
   "file_extension": ".py",
   "mimetype": "text/x-python",
   "name": "python",
   "nbconvert_exporter": "python",
   "pygments_lexer": "ipython3",
   "version": "3.6.8"
  },
  "mimetype": "text/x-python",
  "name": "python",
  "npconvert_exporter": "python",
  "pygments_lexer": "ipython3",
  "version": 3
 },
 "nbformat": 4,
 "nbformat_minor": 4
}
